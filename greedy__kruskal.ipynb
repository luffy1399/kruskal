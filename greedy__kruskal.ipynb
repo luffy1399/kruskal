{
 "cells": [
  {
   "cell_type": "code",
   "execution_count": 13,
   "id": "6d2aaa42",
   "metadata": {},
   "outputs": [
    {
     "name": "stdout",
     "output_type": "stream",
     "text": [
      "0-1 : 1\n",
      "1-2 : 2\n",
      "2-3 : 3\n",
      "3-4 : 4\n",
      "\n",
      "min_cost =  10\n",
      "\n",
      "Graph : \n",
      "[[0, 1, 1], [1, 2, 2], [2, 3, 3], [3, 4, 4], [0, 2, 5], [0, 3, 6], [2, 4, 7], [1, 4, 8]]\n"
     ]
    }
   ],
   "source": [
    "graph=[]\n",
    "V=5\n",
    "\n",
    "def add_edge(u,v,w):\n",
    "    graph.append([u,v,w])\n",
    "    \n",
    "def find(parent,i):\n",
    "    if parent[i] != i:\n",
    "        parent[i]=find(parent,parent[i])\n",
    "        \n",
    "    return parent[i]\n",
    "\n",
    "def union(parent,rank,x,y):\n",
    "    if rank[x]>rank[y]:\n",
    "        parent[y]=x\n",
    "    elif rank[y]>rank[x]:\n",
    "        parent[x]=y\n",
    "    else:\n",
    "        parent[y]=x\n",
    "        rank[x]+=1\n",
    "        \n",
    "\n",
    "def kruskal():\n",
    "    result=[]\n",
    "    rank=[]\n",
    "    parent=[]\n",
    "    i=0\n",
    "    e=0\n",
    "    \n",
    "    graph.sort(key=lambda item : item[2])\n",
    "    \n",
    "    for node in range(V):\n",
    "        parent.append(node)\n",
    "        rank.append(0)\n",
    "        \n",
    "    while e<(V-1):\n",
    "        u,v,w=graph[i]\n",
    "        i=i+1\n",
    "        x=find(parent,u)\n",
    "        y=find(parent,v)\n",
    "        \n",
    "        if x!=y:\n",
    "            e= e+1\n",
    "            result.append([u,v,w])\n",
    "            union(parent,rank,x,y)\n",
    "            \n",
    "            \n",
    "    \n",
    "    min_cost=0\n",
    "    \n",
    "    for u,v,w in result:\n",
    "        min_cost+=w\n",
    "        \n",
    "        print(str(u) + \"-\" + str(v) + \" : \" + str(w))\n",
    "        \n",
    "    print(\"\\nmin_cost = \" ,min_cost)\n",
    "    \n",
    "    print(\"\\nGraph : \")\n",
    "    \n",
    " \n",
    "add_edge(0,1,1)\n",
    "add_edge(0,2,5)\n",
    "add_edge(0,3,6)\n",
    "add_edge(1,2,2)\n",
    "add_edge(1,4,8)\n",
    "add_edge(2,3,3)\n",
    "add_edge(2,4,7)\n",
    "add_edge(3,4,4)\n",
    "\n",
    "\n",
    "kruskal()\n",
    "print(graph)\n",
    "\n",
    "\n",
    "        \n"
   ]
  },
  {
   "cell_type": "code",
   "execution_count": null,
   "id": "a779578e",
   "metadata": {},
   "outputs": [],
   "source": []
  },
  {
   "cell_type": "code",
   "execution_count": null,
   "id": "222689c5",
   "metadata": {},
   "outputs": [],
   "source": []
  },
  {
   "cell_type": "code",
   "execution_count": null,
   "id": "16223e7d",
   "metadata": {},
   "outputs": [],
   "source": []
  }
 ],
 "metadata": {
  "kernelspec": {
   "display_name": "Python 3 (ipykernel)",
   "language": "python",
   "name": "python3"
  },
  "language_info": {
   "codemirror_mode": {
    "name": "ipython",
    "version": 3
   },
   "file_extension": ".py",
   "mimetype": "text/x-python",
   "name": "python",
   "nbconvert_exporter": "python",
   "pygments_lexer": "ipython3",
   "version": "3.10.9"
  }
 },
 "nbformat": 4,
 "nbformat_minor": 5
}
